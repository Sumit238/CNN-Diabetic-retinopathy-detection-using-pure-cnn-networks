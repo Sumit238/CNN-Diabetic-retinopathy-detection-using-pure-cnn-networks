{
  "nbformat": 4,
  "nbformat_minor": 0,
  "metadata": {
    "colab": {
      "name": "rename_dataset.ipynb",
      "provenance": []
    },
    "kernelspec": {
      "name": "python3",
      "display_name": "Python 3"
    },
    "language_info": {
      "name": "python"
    }
  },
  "cells": [
    {
      "cell_type": "markdown",
      "metadata": {
        "id": "J_7aUwTbX3vR"
      },
      "source": [
        "**Connect Google Drive to Colab Instance**"
      ]
    },
    {
      "cell_type": "code",
      "metadata": {
        "id": "cZWWDdOdWDs_"
      },
      "source": [
        "from google.colab import drive\n",
        "drive.mount('/content/drive')"
      ],
      "execution_count": null,
      "outputs": []
    },
    {
      "cell_type": "code",
      "metadata": {
        "id": "EMDGsgT3Yr1S"
      },
      "source": [
        "import os\n",
        "import pandas as pd\n",
        "import json"
      ],
      "execution_count": null,
      "outputs": []
    },
    {
      "cell_type": "markdown",
      "metadata": {
        "id": "fkW55o_Va37P"
      },
      "source": [
        "**Note** : Before going ahead modifiy previously downloaded label CSV file\n",
        " \n",
        "\n",
        "*   Delete the first coloumn of  file\n",
        "*   save and rename it as **trainLabels_cropped_modified2.csv**\n",
        "\n",
        "\n",
        "\n"
      ]
    },
    {
      "cell_type": "code",
      "metadata": {
        "id": "OshUJJMGYsiA"
      },
      "source": [
        "df = pd.read_csv('/content/drive/MyDrive/trainLabels_cropped_modified2.csv')\n",
        "labels=df.to_json()\n",
        "labels=json.loads(labels)\n",
        "print(labels)"
      ],
      "execution_count": null,
      "outputs": []
    },
    {
      "cell_type": "code",
      "metadata": {
        "id": "54uITy9jYvTI"
      },
      "source": [
        "root='/content/drive/MyDrive/resized_train_cropped/'\n",
        "for i in range(1,17555):\n",
        "  srcLeft=root+labels['image'][str(i*2-2)]\n",
        "  dstLeft=root+str(i)+'_left.jpeg'\n",
        "  labels['image'][str(i*2-2)]=str(i)+'_left'\n",
        "  print(labels['image'][str(i*2-2)])\n",
        "  print(srcLeft)\n",
        "  print(dstLeft)\n",
        "  srcRight=root+labels['image'][str(i*2-1)]\n",
        "  dstRight=root+str(i)+'_right.jpeg'\n",
        "  labels['image'][str(i*2-1)]=str(i)+'_right'\n",
        "  print(srcRight)\n",
        "  print(dstRight)\n",
        "  print(labels['image'][str(i*2-1)])"
      ],
      "execution_count": null,
      "outputs": []
    },
    {
      "cell_type": "code",
      "metadata": {
        "id": "w6SgQehAY5oR"
      },
      "source": [
        "df=pd.DataFrame(labels)\n",
        "df.to_csv('/content/drive/MyDrive/modefied_labels.csv')"
      ],
      "execution_count": null,
      "outputs": []
    }
  ]
}