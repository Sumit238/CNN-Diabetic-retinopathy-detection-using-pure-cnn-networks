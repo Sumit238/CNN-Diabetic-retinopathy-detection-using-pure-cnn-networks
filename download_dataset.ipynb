{
  "nbformat": 4,
  "nbformat_minor": 0,
  "metadata": {
    "colab": {
      "name": "download_dataset.ipynb",
      "provenance": [],
      "collapsed_sections": []
    },
    "kernelspec": {
      "name": "python3",
      "display_name": "Python 3"
    },
    "language_info": {
      "name": "python"
    }
  },
  "cells": [
    {
      "cell_type": "markdown",
      "metadata": {
        "id": "-Tld9fm0VjUj"
      },
      "source": [
        "**Connect Google Drive to Colab Instance**\n",
        "\n"
      ]
    },
    {
      "cell_type": "code",
      "metadata": {
        "colab": {
          "base_uri": "https://localhost:8080/"
        },
        "id": "XSoGSoYS7GsP",
        "outputId": "ba56c0e6-9a86-41b5-9108-5d5726dbbe60"
      },
      "source": [
        "from google.colab import drive\n",
        "drive.mount('/content/drive')"
      ],
      "execution_count": null,
      "outputs": [
        {
          "output_type": "stream",
          "text": [
            "Mounted at /content/drive\n"
          ],
          "name": "stdout"
        }
      ]
    },
    {
      "cell_type": "markdown",
      "metadata": {
        "id": "4lUMAkPH7WlV"
      },
      "source": [
        "**Download Kaggle DataSet**"
      ]
    },
    {
      "cell_type": "code",
      "metadata": {
        "id": "C_6HDQcp8XGn"
      },
      "source": [
        "!pip install -q kaggle"
      ],
      "execution_count": null,
      "outputs": []
    },
    {
      "cell_type": "code",
      "metadata": {
        "id": "WOBYciuH_Yo4"
      },
      "source": [
        "!mkdir -p ~/.kaggle"
      ],
      "execution_count": null,
      "outputs": []
    },
    {
      "cell_type": "markdown",
      "metadata": {
        "id": "fn_11MmdU-__"
      },
      "source": [
        "For Kaggle.json file please visit :  [Easiest way to download kaggle data in Google Colab](https://www.kaggle.com/general/74235)"
      ]
    },
    {
      "cell_type": "code",
      "metadata": {
        "id": "BoUvhyB-_l5N"
      },
      "source": [
        "!cp /content/drive/MyDrive/Major_Project_Sem8/kaggle.json ~/.kaggle/"
      ],
      "execution_count": null,
      "outputs": []
    },
    {
      "cell_type": "code",
      "metadata": {
        "id": "LmJ45HH79ZW8"
      },
      "source": [
        "!chmod 600 /root/.kaggle/kaggle.json"
      ],
      "execution_count": null,
      "outputs": []
    },
    {
      "cell_type": "code",
      "metadata": {
        "id": "h5h9X7HK9mom"
      },
      "source": [
        "!kaggle datasets download -d tanlikesmath/diabetic-retinopathy-resized -p /content/dataSet"
      ],
      "execution_count": null,
      "outputs": []
    },
    {
      "cell_type": "code",
      "metadata": {
        "id": "9uE5TVFv-hcp"
      },
      "source": [
        "! unzip /content/dataSet/diabetic-retinopathy-resized.zip"
      ],
      "execution_count": null,
      "outputs": []
    },
    {
      "cell_type": "code",
      "metadata": {
        "id": "GeKtanZdTyGs"
      },
      "source": [
        "!mv /content/resized_train_cropped /content/drive/MyDrive/"
      ],
      "execution_count": null,
      "outputs": []
    },
    {
      "cell_type": "code",
      "metadata": {
        "id": "xyShX09xA3Gt"
      },
      "source": [
        "!mv /content/trainLabels_cropped.csv /content/drive/MyDrive/"
      ],
      "execution_count": null,
      "outputs": []
    }
  ]
}