{
  "nbformat": 4,
  "nbformat_minor": 0,
  "metadata": {
    "colab": {
      "name": "train_test_division.ipynb",
      "provenance": [],
      "collapsed_sections": []
    },
    "kernelspec": {
      "name": "python3",
      "display_name": "Python 3"
    },
    "language_info": {
      "name": "python"
    }
  },
  "cells": [
    {
      "cell_type": "code",
      "metadata": {
        "id": "vC40-ub5cJDF"
      },
      "source": [
        "import os\n",
        "import pickle\n",
        "import random"
      ],
      "execution_count": null,
      "outputs": []
    },
    {
      "cell_type": "code",
      "metadata": {
        "colab": {
          "base_uri": "https://localhost:8080/"
        },
        "id": "8_fDDcVMaylt",
        "outputId": "9aba2cc5-eee0-4e56-e26f-afdaadd4e971"
      },
      "source": [
        "#check number of samples in dataset\n",
        "print(len(os.listdir('/content/drive/MyDrive/resized_train_cropped/resized_train_cropped')))"
      ],
      "execution_count": null,
      "outputs": [
        {
          "output_type": "stream",
          "text": [
            "35108\n"
          ],
          "name": "stdout"
        }
      ]
    },
    {
      "cell_type": "code",
      "metadata": {
        "id": "sJxGpN8rdWTE"
      },
      "source": [
        "rootPath='/content/drive/MyDrive\n",
        "totalImg=len(os.listdir(rootPath+'/resized_train_cropped'))\n",
        "totalCollection=totalImg//2\n",
        "print(totalCollection,totalImg)"
      ],
      "execution_count": null,
      "outputs": []
    },
    {
      "cell_type": "code",
      "metadata": {
        "id": "hpkGa0p1g3u9"
      },
      "source": [
        "trainListNumber=int((totalCollection*75/100))\n",
        "testListNumber=totalCollection-trainListNumber\n",
        "collectionsData=list(range(1,totalCollection+1))\n",
        "random.shuffle(collectionsData)\n",
        "trainList=collectionsData[0:trainListNumber+1:]\n",
        "testList=collectionsData[trainListNumber+1::]\n",
        "print(trainList)\n",
        "print()\n",
        "print(testList)\n"
      ],
      "execution_count": null,
      "outputs": []
    },
    {
      "cell_type": "code",
      "metadata": {
        "id": "4wBrFujumV0g"
      },
      "source": [
        "rootPath='/content/drive/MyDrive'\n",
        "\n",
        "os.mkdir(rootPath+'/trainData')\n",
        "fundusPath='/content/drive/MyDrive/resized_train_cropped'\n",
        "for fundus in trainList:\n",
        "  fundusPathLeft=fundusPath+'/'+str(fundus)+'_left.jpeg'\n",
        "  targetPath=rootPath+'/trainData'\n",
        "  !mv $fundusPathLeft $targetPath\n",
        "  fundusPathRight=fundusPath+'/'+str(fundus)+'_right.jpeg'\n",
        "  targetPath=rootPath+'/trainData'\n",
        "  !mv $fundusPathRight $targetPath\n",
        "\n",
        "\n",
        "\n"
      ],
      "execution_count": null,
      "outputs": []
    },
    {
      "cell_type": "code",
      "metadata": {
        "id": "N-DtkMFFcaP2"
      },
      "source": [
        "\n",
        "n=len(testList0)\n",
        "count=0\n",
        "for fundus in testList:\n",
        "  print(count,'/',n)\n",
        "  fundusPathLeft=fundusPath+'/'+str(fundus)+'_left.jpeg'\n",
        "  targetPath=rootPath+'/testData'\n",
        "  !mv $fundusPathLeft $targetPath\n",
        "  fundusPathRight=fundusPath+'/'+str(fundus)+'_right.jpeg'\n",
        "  targetPath=rootPath+'/testData'\n",
        "  !mv $fundusPathRight $targetPath\n",
        "  count+=1"
      ],
      "execution_count": null,
      "outputs": []
    }
  ]
}